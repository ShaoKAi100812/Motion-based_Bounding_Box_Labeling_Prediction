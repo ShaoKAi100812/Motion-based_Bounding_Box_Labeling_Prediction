{
 "cells": [
  {
   "attachments": {},
   "cell_type": "markdown",
   "metadata": {},
   "source": [
    "## Custom data preparation"
   ]
  },
  {
   "attachments": {},
   "cell_type": "markdown",
   "metadata": {},
   "source": [
    "### Packages import"
   ]
  },
  {
   "cell_type": "code",
   "execution_count": 1,
   "metadata": {},
   "outputs": [],
   "source": [
    "# necessary packages\n",
    "from torchvision import datasets\n",
    "from torchvision.transforms import ToTensor\n",
    "\n",
    "# custom packages\n",
    "from util.data_generate import *\n",
    "from util.data_io import *\n",
    "\n",
    "# ignore for possible warnings\n",
    "import warnings\n",
    "warnings.filterwarnings('ignore')"
   ]
  },
  {
   "attachments": {},
   "cell_type": "markdown",
   "metadata": {},
   "source": [
    "### Original data from Fashion-MNIST"
   ]
  },
  {
   "cell_type": "code",
   "execution_count": 2,
   "metadata": {},
   "outputs": [],
   "source": [
    "# get training dataset\n",
    "training_data = datasets.FashionMNIST(\n",
    "    root=\"data\",\n",
    "    train=True,\n",
    "    download=True,\n",
    "    transform=ToTensor()\n",
    ")\n",
    "\n",
    "# get testing dataset\n",
    "testing_data = datasets.FashionMNIST(\n",
    "    root=\"data\",\n",
    "    train=False,\n",
    "    download=True,\n",
    "    transform=ToTensor()\n",
    ")\n",
    "\n",
    "# class names\n",
    "classes = [\n",
    "    \"T-shirt/top\",\n",
    "    \"Trouser\",\n",
    "    \"Pullover\",\n",
    "    \"Dress\",\n",
    "    \"Coat\",\n",
    "    \"Sandal\",\n",
    "    \"Shirt\",\n",
    "    \"Sneaker\",\n",
    "    \"Bag\",\n",
    "    \"Ankle boot\",\n",
    "]"
   ]
  },
  {
   "attachments": {},
   "cell_type": "markdown",
   "metadata": {},
   "source": [
    "### custom information setup"
   ]
  },
  {
   "cell_type": "code",
   "execution_count": 3,
   "metadata": {},
   "outputs": [],
   "source": [
    "# 5 closer classes on UMAP\n",
    "target_02346 = [\n",
    "    \"T-shirt/top\",\n",
    "    \"Pullover\",\n",
    "    \"Dress\",\n",
    "    \"Coat\",\n",
    "    \"Shirt\",\n",
    "]\n",
    "\n",
    "# 3 closer classes on UMAP but far from upper 5 classes\n",
    "target_579 = [\n",
    "    \"Sandal\",\n",
    "    \"Sneaker\",\n",
    "    \"Ankle boot\",\n",
    "]\n",
    "\n",
    "# 2 separate classes on UMAP\n",
    "target_18 = [\n",
    "    \"Trouser\",\n",
    "    \"Bag\",\n",
    "]\n",
    "\n",
    "# setup number of samples for each class\n",
    "train_number = 40\n",
    "test_number = 10"
   ]
  },
  {
   "cell_type": "code",
   "execution_count": 4,
   "metadata": {},
   "outputs": [
    {
     "name": "stdout",
     "output_type": "stream",
     "text": [
      "torch.Size([4224, 84, 112]) torch.Size([4224, 1])\n",
      "torch.Size([1026, 84, 112]) torch.Size([1026, 1])\n",
      "torch.Size([621, 84, 112]) torch.Size([621, 1])\n",
      "torch.Size([454, 84, 112]) torch.Size([454, 1])\n"
     ]
    }
   ],
   "source": [
    "# generate training data of target_02346\n",
    "train_02346 = pick(training_data, target_02346, train_number)\n",
    "train_02346, train_number_list_02346, train_stride_list_02346 = album(train_02346, is_rand_stride = True, is_rand_pos = True)\n",
    "training_image_02346 = dif_frame(train_02346, train_number_list_02346)\n",
    "training_gt_02346 = vector(train_number_list_02346, train_stride_list_02346)\n",
    "\n",
    "# generate testing data of target_02346\n",
    "test_02346 = pick(testing_data, target_02346, test_number)\n",
    "test_02346, test_number_list_02346, test_stride_list_02346 = album(test_02346, is_rand_stride = True, is_rand_pos = True)\n",
    "testing_image_02346 = dif_frame(test_02346, test_number_list_02346)\n",
    "testing_gt_02346 = vector(test_number_list_02346, test_stride_list_02346)\n",
    "\n",
    "# generate testing data of target_579\n",
    "test_579 = pick(testing_data, target_579, test_number)\n",
    "test_579, test_number_list_579, test_stride_list_579 = album(test_579, is_rand_stride = True, is_rand_pos = True)\n",
    "testing_image_579 = dif_frame(test_579, test_number_list_579)\n",
    "testing_gt_579 = vector(test_number_list_579, test_stride_list_579)\n",
    "\n",
    "# generate testing data of target_18\n",
    "test_18 = pick(testing_data, target_18, test_number)\n",
    "test_18, test_number_list_18, test_stride_list_18 = album(test_18, is_rand_stride = True, is_rand_pos = True)\n",
    "testing_image_18 = dif_frame(test_18, test_number_list_18)\n",
    "testing_gt_18 = vector(test_number_list_18, test_stride_list_18)\n",
    "\n",
    "print(training_image_02346.shape, training_gt_02346.shape)\n",
    "print(testing_image_02346.shape, testing_gt_02346.shape)\n",
    "print(testing_image_579.shape, testing_gt_579.shape)\n",
    "print(testing_image_18.shape, testing_gt_18.shape)"
   ]
  },
  {
   "cell_type": "code",
   "execution_count": 5,
   "metadata": {},
   "outputs": [],
   "source": [
    "# define file names\n",
    "CSV_NAME_TRAIN_02346 = 'train_02346.csv'\n",
    "IMAGE_NAME_TRAIN_02346 = 'train_02346'\n",
    "CSV_NAME_TEST_02346 = 'test_02346.csv'\n",
    "IMAGE_NAME_TEST_02346 = 'test_02346'\n",
    "CSV_NAME_TEST_579 = 'test_579.csv'\n",
    "IMAGE_NAME_TEST_579 = 'test_579'\n",
    "CSV_NAME_TEST_18 = 'test_18.csv'\n",
    "IMAGE_NAME_TEST_18 = 'test_18'\n",
    "\n",
    "# export data\n",
    "image_export(training_image_02346, IMAGE_NAME_TRAIN_02346)\n",
    "gt_export(training_gt_02346, CSV_NAME_TRAIN_02346)\n",
    "image_export(testing_image_02346, IMAGE_NAME_TEST_02346)\n",
    "gt_export(testing_gt_02346, CSV_NAME_TEST_02346)\n",
    "image_export(testing_image_579, IMAGE_NAME_TEST_579)\n",
    "gt_export(testing_gt_579, CSV_NAME_TEST_579)\n",
    "image_export(testing_image_18, IMAGE_NAME_TEST_18)\n",
    "gt_export(testing_gt_18, CSV_NAME_TEST_18)"
   ]
  },
  {
   "cell_type": "code",
   "execution_count": 6,
   "metadata": {},
   "outputs": [],
   "source": [
    "# export raw album data\n",
    "image_export(train_02346, 'train_02346_raw')\n",
    "image_export(test_02346, 'test_02346_raw')"
   ]
  }
 ],
 "metadata": {
  "kernelspec": {
   "display_name": "Python 3",
   "language": "python",
   "name": "python3"
  },
  "language_info": {
   "codemirror_mode": {
    "name": "ipython",
    "version": 3
   },
   "file_extension": ".py",
   "mimetype": "text/x-python",
   "name": "python",
   "nbconvert_exporter": "python",
   "pygments_lexer": "ipython3",
   "version": "3.8.10"
  },
  "orig_nbformat": 4,
  "vscode": {
   "interpreter": {
    "hash": "64def4006c78149665c79cf5850ee76c9e416630a0d9e75e41ff194dcaf5fb2b"
   }
  }
 },
 "nbformat": 4,
 "nbformat_minor": 2
}
